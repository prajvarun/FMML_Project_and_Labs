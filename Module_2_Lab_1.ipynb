{
  "nbformat": 4,
  "nbformat_minor": 0,
  "metadata": {
    "colab": {
      "provenance": [],
      "authorship_tag": "ABX9TyN5Tpc4Lzlms/SrWJZHIBEY",
      "include_colab_link": true
    },
    "kernelspec": {
      "name": "python3",
      "display_name": "Python 3"
    },
    "language_info": {
      "name": "python"
    }
  },
  "cells": [
    {
      "cell_type": "markdown",
      "metadata": {
        "id": "view-in-github",
        "colab_type": "text"
      },
      "source": [
        "<a href=\"https://colab.research.google.com/github/prajvarun/FMML_Project_and_Labs/blob/main/Module_2_Lab_1.ipynb\" target=\"_parent\"><img src=\"https://colab.research.google.com/assets/colab-badge.svg\" alt=\"Open In Colab\"/></a>"
      ]
    },
    {
      "cell_type": "markdown",
      "source": [
        "MODULE 2 LAB 1 ANSWERS"
      ],
      "metadata": {
        "id": "KAeqSlzwKA56"
      }
    },
    {
      "cell_type": "markdown",
      "source": [
        "#Question:\n",
        "Interpret the plot below. List all the interpretations point by point using the plot below.\n",
        "Some pointers:\n",
        "\n",
        "1) Think about the maximum/minimum values for each body-type, which body-type is the \"costliest\" ?\n",
        "\n",
        "2) Do you think maximum/minimum values are a clear indication of which body-type is costliest, or does the interpretation improve by also taking the interquartile range into consideration?\n",
        "\n",
        "3) Do you think the body-style of a car can be a good predictor for its price?\n",
        "\n",
        "[ ]\n",
        "sns.boxplot(x=X[\"body-style\"],y=y, palette=\"Set3\").set_title('Body style vs Price Box Plot')\n",
        "account_circle\n"
      ],
      "metadata": {
        "id": "WCDngtc9NWDc"
      }
    },
    {
      "cell_type": "markdown",
      "source": [
        "ANSWERS\n",
        "1)A\n",
        "Maximum/Minimum Values:\n",
        "\n",
        "The box plot shows the spread of car prices for different body styles.\n",
        "The \"costliest\" body type in terms of maximum price appears to be the \"hardtop,\" as it has the highest upper whisker, indicating the presence of some expensive outliers.\n",
        "The \"hatchback\" body style has the lowest minimum price, as indicated by the lower whisker, suggesting it is the least expensive option."
      ],
      "metadata": {
        "id": "Igw8Ldm5KRup"
      }
    },
    {
      "cell_type": "markdown",
      "source": [
        "2)Interquartile Range (IQR):\n",
        "\n",
        "While looking at maximum and minimum values provides some insight into the costliest and least costly options, it's important to consider the interquartile range (IQR) for a better understanding.\n",
        "The IQR gives us the range within which the majority of prices for each body style fall.\n",
        "The \"convertible\" and \"hardtop\" body styles have relatively larger IQRs, indicating a wider range of prices within these categories. This suggests that they may offer both high-end and more affordable options.\n",
        "On the other hand, the \"sedan\" and \"wagon\" body styles have relatively smaller IQRs, suggesting that prices for these styles are more clustered around a central value."
      ],
      "metadata": {
        "id": "bgZtqtveKkRy"
      }
    },
    {
      "cell_type": "markdown",
      "source": [
        "3)Predictive Power of Body Style:\n",
        "\n",
        "While the body style of a car can provide some information about its price, it's not the sole determinant. Other factors like brand, model, features, engine type, and market demand also influence car prices.\n",
        "The box plot shows variations in price within each body style, indicating that body style alone may not be a perfect predictor of a car's price.\n",
        "To make more accurate price predictions, a model would likely need to consider multiple features and factors beyond just body style."
      ],
      "metadata": {
        "id": "e0E_K-X3Krf6"
      }
    },
    {
      "cell_type": "markdown",
      "source": [
        "In summary, the box plot provides insights into how car prices vary among different body styles. It suggests that while body style can give some indication of price trends, it's not the only factor determining a car's price, and other features and factors should also be considered for accurate price prediction."
      ],
      "metadata": {
        "id": "3IAXorSbKxOx"
      }
    }
  ]
}